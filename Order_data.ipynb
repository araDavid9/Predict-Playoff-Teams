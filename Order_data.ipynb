{
 "cells": [
  {
   "cell_type": "code",
   "execution_count": 8,
   "id": "2c7b94a3",
   "metadata": {},
   "outputs": [],
   "source": [
    "import os\n",
    "import pandas as pd\n",
    "import numpy as np"
   ]
  },
  {
   "cell_type": "code",
   "execution_count": 103,
   "id": "5a341a90",
   "metadata": {
    "scrolled": false
   },
   "outputs": [
    {
     "name": "stdout",
     "output_type": "stream",
     "text": [
      "['Argentinian-Liga-A', 'Basketball-Champions-League-', 'Adriatic-Junior-Liga-ABA', 'Spanish-LEB-Gold', 'Italian-Cup', 'French-Leaders-Cup-LNB-B', 'Czech-NBL', 'Austrian-A-Bundesliga', 'Alpe-Adria-Cup', 'Serbian-KLS', 'Spanish-Cup', 'BNXT-League', 'FIBA-Europe-Cup---Qualification', 'German-Pro-A', 'Greek-HEBA-A1', 'Cypriot-Division-A', 'Basketball-Africa-League', 'Georgian-Super-Liga', 'Bulgarian-NBL', 'NBL-Blitz', 'Portuguese-LPB', 'NBA', 'Swiss-LNA', 'British-BBL', 'Mexican-CIBACOPA', 'Lithuanian-NKL', 'Belgrade-Tournament-(ANGT)', 'Slovakian-Extraliga', 'Romanian-Divizia-A', 'Munich-Tournament-(ANGT)', 'Lebanese-Division-A', 'VTB-Youth-United-League', 'French-Jeep-Elite', 'Norwegian-BLNO', 'Montenegrin-Prva-A-Liga', 'VTB-United-League', 'French-NM1', 'New-Zealand-NB', 'Luxembourg-Total-League', 'Turkish-TBL', 'German-BBL', 'Chinese-CBA', 'Puerto-Rican-BSN', 'Balkan-BIBL', 'Bosnian-BiH-Liga', 'French-Leaders-Cup-LNB-A', 'Swedish-Basketligan', 'Basketball-Africa-League---Qualification', 'FIBA-Europe-Cup', 'Japanese-B.League', 'Turkish-BSL', 'German-Pro-B', 'Euroleague', 'Italian-Serie-A2-Basket', 'Greek-HEBA-A2', 'Canadian-NBL', 'French-LNB-Pro-B', 'PBA---Philippine-Cup', 'Eurocup', 'Brazilian-NBB', 'Belarusian-BPL', 'Ukrainian-Superleague', 'Turkish-Cup', 'Danish-Basketligaen', 'PBA---Governors-Cup', 'Intercontinental-Cup', 'Croatian-A-1-Liga', 'Venezuelan-SLB', 'Patras-Tournament-(ANGT)', 'PBA---Commissioners-Cup', 'Estonian-Latvian-Basketball-League', 'Slovenian-SKL', 'Serbian-RK-Cup', 'Lithuanian-LKL', 'Australian-NBL', 'Spanish-LEB-Silver', 'Italian-Lega-Basket-Serie-A', 'French-LNB-Espoirs', 'Macedonian-Superleague', 'Spanish-ACB-SuperCup', 'Hungarian-NBIA', 'Israeli-BSL', 'VTB-SuperCup', 'Finnish-Korisliiga', 'Mexican-LNBP', 'Kosovo-FBK', 'Spanish-ACB', 'Canadian-Elite-Basketball-League', 'German-Cup', 'Polish-EB', 'South-Korean-KBL', 'Adriatic-League-Liga-ABA', 'Youth-Basketball-Champions-League', 'Zadar-Tournament-(ANGT)']\n"
     ]
    }
   ],
   "source": [
    "leaguesNamesFolder = [folder for folder in os.listdir() if os.path.isdir(folder)]\n",
    "leagueseCSV = [\"Youth-Basketball-Champions-League_2023\",\"Zadar-Tournament-(ANGT)_2023\"]\n",
    "noList =[\".DS_Store\",\"ORIG_HEAD\",\"config\",\"objects\",\n",
    "\"HEAD\",\n",
    "\"info\",\n",
    "\"logs\",\n",
    "\"description\",\n",
    "\"hooks\",\n",
    "\"refs\",\n",
    "\"index\",\n",
    "\"packed-refs\",\n",
    "\"COMMIT_EDITMSG\",\n",
    "\"FETCH_HEAD\",\"Collect_Data-checkpoint.ipynb\",\"Untitled-checkpoint.ipynb\",\".ipynb_checkpoints\",\".git\"]\n",
    "'''\n",
    "##For all Folders \n",
    "for league in leaguesNamesFolder:\n",
    "    currDire = os.getcwd()+ os.sep +league\n",
    "    files = os.listdir(currDire)\n",
    "    for fileName in files:\n",
    "        print(fileName)\n",
    "        filePath = os.path.join(currDire,fileName)\n",
    "        if(fileName not in noList):\n",
    "            df = pd.read_csv(filePath)\n",
    "            year = fileName[-8:-4]\n",
    "            leagueName = fileName[0:-9]\n",
    "            df[\"Year\"] = year\n",
    "            df[\"League_Name\"]=leagueName\n",
    "            df.to_csv(filePath,index=False)\n",
    "            \n",
    "##Leagues that are not in folder          \n",
    "for league in leagueseCSV:\n",
    "    filePath = os.getcwd()+os.sep+league+\".csv\"\n",
    "    df = pd.read_csv(filePath)\n",
    "    year = league[-4:]\n",
    "    leagueName = league[0:-5]\n",
    "    df[\"Year\"] = year\n",
    "    df[\"League_Name\"]=leagueName\n",
    "    df.to_csv(filePath,index=False)\n",
    "    \n",
    "'''     \n",
    "allLeague =[]\n",
    "for league in leaguesNamesFolder:\n",
    "    if(league not in noList):\n",
    "        allLeague.append(league)\n",
    "allLeague.append(\"Youth-Basketball-Champions-League\")\n",
    "allLeague.append(\"Zadar-Tournament-(ANGT)\")\n",
    "print(allLeague)\n",
    "        \n",
    "            "
   ]
  },
  {
   "cell_type": "code",
   "execution_count": null,
   "id": "3425a183",
   "metadata": {},
   "outputs": [],
   "source": []
  }
 ],
 "metadata": {
  "kernelspec": {
   "display_name": "Python 3 (ipykernel)",
   "language": "python",
   "name": "python3"
  },
  "language_info": {
   "codemirror_mode": {
    "name": "ipython",
    "version": 3
   },
   "file_extension": ".py",
   "mimetype": "text/x-python",
   "name": "python",
   "nbconvert_exporter": "python",
   "pygments_lexer": "ipython3",
   "version": "3.9.13"
  }
 },
 "nbformat": 4,
 "nbformat_minor": 5
}
