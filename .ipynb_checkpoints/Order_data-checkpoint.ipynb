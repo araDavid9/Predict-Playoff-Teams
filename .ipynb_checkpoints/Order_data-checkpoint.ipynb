{
 "cells": [
  {
   "cell_type": "code",
   "execution_count": 8,
   "id": "787cf54b",
   "metadata": {},
   "outputs": [],
   "source": [
    "import os\n",
    "import pandas as pd\n",
    "import numpy as np"
   ]
  },
  {
   "cell_type": "code",
   "execution_count": 95,
   "id": "108bfdad",
   "metadata": {
    "scrolled": false
   },
   "outputs": [],
   "source": [
    "leaguesNamesFolder = [folder for folder in os.listdir() if os.path.isdir(folder)]\n",
    "leagueseCSV = [\"Youth-Basketball-Champions-League_2023\",\"Zadar-Tournament-(ANGT)_2023\"]\n",
    "noList =[\".DS_Store\",\"ORIG_HEAD\",\"config\",\"objects\",\n",
    "\"HEAD\",\n",
    "\"info\",\n",
    "\"logs\",\n",
    "\"description\",\n",
    "\"hooks\",\n",
    "\"refs\",\n",
    "\"index\",\n",
    "\"packed-refs\",\n",
    "\"COMMIT_EDITMSG\",\n",
    "\"FETCH_HEAD\",\"Collect_Data-checkpoint.ipynb\",\"Untitled-checkpoint.ipynb\"]\n",
    "\n",
    "##For all Folders \n",
    "for league in leaguesNamesFolder:\n",
    "    currDire = os.getcwd()+ os.sep +league\n",
    "    files = os.listdir(currDire)\n",
    "    for fileName in files:\n",
    "        print(fileName)\n",
    "        filePath = os.path.join(currDire,fileName)\n",
    "        if(fileName not in noList):\n",
    "            df = pd.read_csv(filePath)\n",
    "            year = fileName[-8:-4]\n",
    "            leagueName = fileName[0:-9]\n",
    "            df[\"Year\"] = year\n",
    "            df[\"League_Name\"]=leagueName\n",
    "            df.to_csv(filePath,index=False)\n",
    "            \n",
    "##Leagues that are not in folder          \n",
    "for league in leagueseCSV:\n",
    "    filePath = os.getcwd()+os.sep+league+\".csv\"\n",
    "    df = pd.read_csv(filePath)\n",
    "    year = league[-4:]\n",
    "    leagueName = league[0:-5]\n",
    "    df[\"Year\"] = year\n",
    "    df[\"League_Name\"]=leagueName\n",
    "    df.to_csv(filePath,index=False)\n",
    "    \n",
    "      \n",
    "\n",
    "\n",
    "\n",
    "        \n",
    "            "
   ]
  },
  {
   "cell_type": "code",
   "execution_count": null,
   "id": "39458063",
   "metadata": {},
   "outputs": [],
   "source": []
  }
 ],
 "metadata": {
  "kernelspec": {
   "display_name": "Python 3 (ipykernel)",
   "language": "python",
   "name": "python3"
  },
  "language_info": {
   "codemirror_mode": {
    "name": "ipython",
    "version": 3
   },
   "file_extension": ".py",
   "mimetype": "text/x-python",
   "name": "python",
   "nbconvert_exporter": "python",
   "pygments_lexer": "ipython3",
   "version": "3.10.1"
  }
 },
 "nbformat": 4,
 "nbformat_minor": 5
}
