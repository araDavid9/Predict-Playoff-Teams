{
 "cells": [
  {
   "cell_type": "code",
   "execution_count": 1,
   "id": "d24ce3ea",
   "metadata": {},
   "outputs": [],
   "source": [
    "import pandas as pd\n",
    "import numpy as np\n",
    "from bs4 import BeautifulSoup as bs\n",
    "import requests as req"
   ]
  },
  {
   "cell_type": "code",
   "execution_count": 2,
   "id": "800c5198",
   "metadata": {},
   "outputs": [
    {
     "data": {
      "text/plain": [
       "<Response [200]>"
      ]
     },
     "execution_count": 2,
     "metadata": {},
     "output_type": "execute_result"
    }
   ],
   "source": [
    "leagues=[]\n",
    "years=[]\n",
    "mainUrl = \"https://basketball.realgm.com/international/league/1/Euroleague/team-stats/2023/Averages/Team_Totals\"\n",
    "res = req.get(mainUrl)\n",
    "res"
   ]
  },
  {
   "cell_type": "code",
   "execution_count": 3,
   "id": "f2390315",
   "metadata": {
    "scrolled": false
   },
   "outputs": [
    {
     "data": {
      "text/plain": [
       "['2022-2023',\n",
       " '2021-2022',\n",
       " '2020-2021',\n",
       " '2019-2020',\n",
       " '2018-2019',\n",
       " '2017-2018',\n",
       " '2016-2017',\n",
       " '2015-2016',\n",
       " '2014-2015',\n",
       " '2013-2014',\n",
       " '2012-2013',\n",
       " '2011-2012',\n",
       " '2010-2011',\n",
       " '2009-2010',\n",
       " '2008-2009',\n",
       " '2007-2008',\n",
       " '2006-2007',\n",
       " '2005-2006',\n",
       " '2004-2005',\n",
       " '2003-2004',\n",
       " '2002-2003',\n",
       " '2001-2002',\n",
       " '2000-2001']"
      ]
     },
     "execution_count": 3,
     "metadata": {},
     "output_type": "execute_result"
    }
   ],
   "source": [
    "soup = bs(res.content,\"html.parser\")\n",
    "bigTable = soup.find_all(\"select\",attrs={\"class\":\"ddl\"})\n",
    "leagueRef = bigTable[1]\n",
    "yearsRef = bigTable[0]\n",
    "\n",
    "####Taking all the Teams\n",
    "for i in leagueRef:\n",
    "    leagues.append(i.text)\n",
    "\n",
    "for i in leagues:\n",
    "    if(i == \"\\n\"):\n",
    "        leagues.remove(i)\n",
    "\n",
    "del leagues[0]\n",
    "\n",
    "#### Taking all the Years\n",
    "for i in yearsRef:\n",
    "    years.append(i.text)\n",
    "    \n",
    "for i in years:\n",
    "    if(i==\"\\n\"):\n",
    "        years.remove(i)\n",
    "years"
   ]
  },
  {
   "cell_type": "code",
   "execution_count": 102,
   "id": "2c5eeaea",
   "metadata": {},
   "outputs": [
    {
     "name": "stdout",
     "output_type": "stream",
     "text": [
      "<Response [200]>\n",
      "<Response [200]>\n",
      "<Response [200]>\n",
      "<Response [200]>\n",
      "<Response [200]>\n",
      "<Response [200]>\n",
      "<Response [200]>\n",
      "<Response [200]>\n",
      "<Response [200]>\n",
      "<Response [200]>\n",
      "<Response [200]>\n",
      "<Response [200]>\n",
      "<Response [200]>\n",
      "<Response [200]>\n",
      "<Response [200]>\n",
      "<Response [200]>\n",
      "<Response [200]>\n",
      "<Response [200]>\n",
      "<Response [200]>\n",
      "<Response [200]>\n",
      "<Response [200]>\n",
      "<Response [200]>\n",
      "<Response [200]>\n",
      "<Response [200]>\n",
      "<Response [200]>\n",
      "<Response [200]>\n",
      "<Response [200]>\n",
      "<Response [200]>\n",
      "<Response [200]>\n",
      "<Response [200]>\n",
      "<Response [200]>\n",
      "<Response [200]>\n",
      "<Response [200]>\n",
      "<Response [200]>\n",
      "<Response [200]>\n",
      "<Response [200]>\n",
      "<Response [200]>\n",
      "<Response [200]>\n",
      "<Response [200]>\n",
      "<Response [200]>\n",
      "<Response [200]>\n",
      "<Response [200]>\n",
      "<Response [200]>\n",
      "<Response [200]>\n",
      "<Response [200]>\n",
      "<Response [200]>\n",
      "<Response [200]>\n",
      "<Response [200]>\n",
      "<Response [200]>\n",
      "<Response [200]>\n",
      "<Response [200]>\n",
      "<Response [200]>\n",
      "<Response [200]>\n",
      "<Response [200]>\n",
      "<Response [200]>\n",
      "<Response [200]>\n",
      "<Response [200]>\n",
      "<Response [200]>\n",
      "<Response [200]>\n",
      "<Response [200]>\n",
      "<Response [200]>\n",
      "<Response [200]>\n",
      "<Response [200]>\n",
      "<Response [200]>\n",
      "<Response [200]>\n",
      "<Response [200]>\n",
      "<Response [200]>\n",
      "<Response [200]>\n",
      "<Response [200]>\n",
      "<Response [200]>\n",
      "<Response [200]>\n",
      "<Response [200]>\n",
      "<Response [200]>\n",
      "<Response [200]>\n",
      "<Response [200]>\n",
      "<Response [200]>\n",
      "<Response [200]>\n",
      "<Response [200]>\n",
      "<Response [200]>\n",
      "<Response [200]>\n",
      "<Response [200]>\n",
      "<Response [200]>\n",
      "<Response [200]>\n",
      "<Response [200]>\n",
      "<Response [200]>\n",
      "<Response [200]>\n",
      "<Response [200]>\n",
      "<Response [200]>\n",
      "<Response [200]>\n",
      "<Response [200]>\n",
      "<Response [200]>\n",
      "<Response [200]>\n",
      "<Response [200]>\n",
      "<Response [200]>\n",
      "<Response [200]>\n",
      "<Response [200]>\n"
     ]
    }
   ],
   "source": [
    "for league in leagues:\n",
    "    leagueurl = \"https://basketball.realgm.com/international/league/1/\"+league+\"/team-stats/2023/Averages/Team_Totals\"\n",
    "    res = req.get(url)\n",
    "    print(res)"
   ]
  },
  {
   "cell_type": "code",
   "execution_count": 6,
   "id": "fac27582",
   "metadata": {},
   "outputs": [],
   "source": [
    "leagueTables = {}\n",
    "\n",
    "for i in range(2010, 2015):\n",
    "    url = f'https://basketball.realgm.com/international/league/1/Euroleague/team-stats/{i}/Averages/Team_Totals'\n",
    "    leagueTables[i] = pd.read_html(url)[0]"
   ]
  },
  {
   "cell_type": "code",
   "execution_count": null,
   "id": "f475c712",
   "metadata": {},
   "outputs": [],
   "source": []
  }
 ],
 "metadata": {
  "kernelspec": {
   "display_name": "Python 3 (ipykernel)",
   "language": "python",
   "name": "python3"
  },
  "language_info": {
   "codemirror_mode": {
    "name": "ipython",
    "version": 3
   },
   "file_extension": ".py",
   "mimetype": "text/x-python",
   "name": "python",
   "nbconvert_exporter": "python",
   "pygments_lexer": "ipython3",
   "version": "3.10.1"
  }
 },
 "nbformat": 4,
 "nbformat_minor": 5
}
