{
 "cells": [
  {
   "cell_type": "code",
   "execution_count": 3,
   "id": "d24ce3ea",
   "metadata": {},
   "outputs": [],
   "source": [
    "import pandas as pd\n",
    "import numpy as np\n",
    "from bs4 import BeautifulSoup as bs\n",
    "import requests as req"
   ]
  },
  {
   "cell_type": "code",
   "execution_count": 40,
   "id": "800c5198",
   "metadata": {},
   "outputs": [
    {
     "data": {
      "text/plain": [
       "<Response [200]>"
      ]
     },
     "execution_count": 40,
     "metadata": {},
     "output_type": "execute_result"
    }
   ],
   "source": [
    "leagues=[]\n",
    "years=[]\n",
    "mainUrl = \"https://basketball.realgm.com/international/league/1/Euroleague/team-stats/2023/Averages/Team_Totals\"\n",
    "res = req.get(mainUrl)\n",
    "res"
   ]
  },
  {
   "cell_type": "code",
   "execution_count": 41,
   "id": "f2390315",
   "metadata": {
    "scrolled": false
   },
   "outputs": [],
   "source": [
    "soup = bs(res.content,\"html.parser\")\n",
    "bigTable = soup.find_all(\"select\",attrs={\"class\":\"ddl\"})\n",
    "leagueRef = bigTable[1]\n",
    "yearsRef = bigTable[0]\n",
    "\n",
    "####Taking all the Teams\n",
    "for i in leagueRef:\n",
    "    leagues.append(i.text)\n",
    "\n",
    "for i in leagues:\n",
    "    if(i == \"\\n\"):\n",
    "        leagues.remove(i)\n",
    "\n",
    "del leagues[0]\n",
    "\n",
    "for i in range(0,len(leagues)):\n",
    "    leagues[i] = leagues[i].replace(\" \",\"-\")\n",
    "\n",
    "#### Taking all the Years\n",
    "for i in yearsRef:\n",
    "    years.append(i.text)\n",
    "    \n",
    "for i in years:\n",
    "    if(i==\"\\n\"):\n",
    "        years.remove(i)\n",
    "\n",
    "for i in range(0,len(years)):\n",
    "    years[i] = (years[i])[-4:]\n"
   ]
  },
  {
   "cell_type": "code",
   "execution_count": null,
   "id": "2c5eeaea",
   "metadata": {},
   "outputs": [],
   "source": [
    "dfList = []\n",
    "for year in years:\n",
    "    for league in leagues:\n",
    "        leagueurl = \"https://basketball.realgm.com/international/league/1/\"+league+\"/team-stats/\"+year+\"/Averages/Team_Totals\"\n",
    "        dfList.append(pd.read_html(leagueurl)[0])\n",
    "        \n",
    "dfList"
   ]
  },
  {
   "cell_type": "code",
   "execution_count": 30,
   "id": "fac27582",
   "metadata": {},
   "outputs": [],
   "source": [
    "leagueTables = {}\n",
    "\n",
    "for i in range(2010, 2015):\n",
    "    url = f'https://basketball.realgm.com/international/league/1/Euroleague/team-stats/{i}/Averages/Team_Totals'\n",
    "    leagueTables[i] = pd.read_html(url)[0]"
   ]
  },
  {
   "cell_type": "code",
   "execution_count": null,
   "id": "f475c712",
   "metadata": {},
   "outputs": [],
   "source": []
  }
 ],
 "metadata": {
  "kernelspec": {
   "display_name": "Python 3 (ipykernel)",
   "language": "python",
   "name": "python3"
  },
  "language_info": {
   "codemirror_mode": {
    "name": "ipython",
    "version": 3
   },
   "file_extension": ".py",
   "mimetype": "text/x-python",
   "name": "python",
   "nbconvert_exporter": "python",
   "pygments_lexer": "ipython3",
   "version": "3.10.1"
  }
 },
 "nbformat": 4,
 "nbformat_minor": 5
}
